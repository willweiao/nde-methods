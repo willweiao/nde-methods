{
 "cells": [
  {
   "cell_type": "markdown",
   "metadata": {},
   "source": [
    "# Implementation of implicit Runge Kutta methods"
   ]
  },
  {
   "cell_type": "code",
   "execution_count": 1,
   "metadata": {},
   "outputs": [],
   "source": [
    "import numpy as np\n",
    "import matplotlib.pyplot as plt\n",
    "from implicit_RK_method import implicit_rk_step"
   ]
  },
  {
   "cell_type": "markdown",
   "metadata": {},
   "source": [
    "### Setup for Predator prey"
   ]
  },
  {
   "cell_type": "code",
   "execution_count": 2,
   "metadata": {},
   "outputs": [],
   "source": [
    "# Runge Kutta method\n",
    "c=np.array([1/2-np.sqrt(3)/6, 1/2+np.sqrt(3)/6])\n",
    "A=np.array([[1/4, 1/4-np.sqrt(3)/6], [1/4+np.sqrt(3)/6, 1/4]])\n",
    "b=np.array([1/2,1/2])"
   ]
  },
  {
   "cell_type": "code",
   "execution_count": 3,
   "metadata": {},
   "outputs": [],
   "source": [
    "def f(t,y):\n",
    "    f1=y[0]*(1-4*y[1])\n",
    "    f2=1.5*y[1]*(2*y[0]-1)\n",
    "    f=np.array([f1,f2])\n",
    "    return f"
   ]
  },
  {
   "cell_type": "code",
   "execution_count": 4,
   "metadata": {},
   "outputs": [],
   "source": [
    "def D_yf(t,y):\n",
    "    df1y1=1-4*y[1]\n",
    "    df1y2=-4*y[0]\n",
    "    df2y1=3*y[1]\n",
    "    df2y2=2*y[0]-1\n",
    "    D_yf=np.array([[df1y1,df1y2],[df2y1,df2y2]])\n",
    "    return D_yf"
   ]
  },
  {
   "cell_type": "code",
   "execution_count": 5,
   "metadata": {},
   "outputs": [],
   "source": [
    "T=30\n",
    "N=1000\n",
    "h=T/N"
   ]
  },
  {
   "cell_type": "code",
   "execution_count": 6,
   "metadata": {},
   "outputs": [],
   "source": [
    "# Initialize\n",
    "y0 = np.array([0.75,0.33])\n",
    "t = np.linspace(0, T, N+1)  \n",
    "y = np.zeros((2, N+1))\n",
    "k0 = np.zeros(2)    \n",
    "y[:,0] = y0  "
   ]
  },
  {
   "cell_type": "code",
   "execution_count": 8,
   "metadata": {},
   "outputs": [
    {
     "ename": "ValueError",
     "evalue": "could not broadcast input array from shape (2,2) into shape (2,)",
     "output_type": "error",
     "traceback": [
      "\u001b[1;31m---------------------------------------------------------------------------\u001b[0m",
      "\u001b[1;31mValueError\u001b[0m                                Traceback (most recent call last)",
      "Cell \u001b[1;32mIn[8], line 3\u001b[0m\n\u001b[0;32m      1\u001b[0m \u001b[38;5;28;01mfor\u001b[39;00m t_ind \u001b[38;5;129;01min\u001b[39;00m \u001b[38;5;28mrange\u001b[39m(N):\n\u001b[0;32m      2\u001b[0m     \u001b[38;5;66;03m# Compute the solution at the next time step\u001b[39;00m\n\u001b[1;32m----> 3\u001b[0m     y[:,t_ind\u001b[38;5;241m+\u001b[39m\u001b[38;5;241m1\u001b[39m], k0 \u001b[38;5;241m=\u001b[39m \u001b[43mimplicit_rk_step\u001b[49m\u001b[43m(\u001b[49m\u001b[43mc\u001b[49m\u001b[43m,\u001b[49m\u001b[43m \u001b[49m\u001b[43mA\u001b[49m\u001b[43m,\u001b[49m\u001b[43m \u001b[49m\u001b[43mb\u001b[49m\u001b[43m,\u001b[49m\u001b[43m \u001b[49m\u001b[43mf\u001b[49m\u001b[43m,\u001b[49m\u001b[43m \u001b[49m\u001b[43mD_yf\u001b[49m\u001b[43m,\u001b[49m\u001b[43m \u001b[49m\u001b[43mt\u001b[49m\u001b[43m[\u001b[49m\u001b[43mt_ind\u001b[49m\u001b[43m]\u001b[49m\u001b[43m,\u001b[49m\u001b[43m \u001b[49m\u001b[43my\u001b[49m\u001b[43m[\u001b[49m\u001b[43m:\u001b[49m\u001b[43m,\u001b[49m\u001b[43mt_ind\u001b[49m\u001b[43m]\u001b[49m\u001b[43m,\u001b[49m\u001b[43m \u001b[49m\u001b[43mh\u001b[49m\u001b[43m,\u001b[49m\u001b[43m \u001b[49m\u001b[43mk0\u001b[49m\u001b[43m,\u001b[49m\u001b[43m \u001b[49m\u001b[43mTOL\u001b[49m\u001b[38;5;241;43m=\u001b[39;49m\u001b[38;5;241;43m1e-14\u001b[39;49m\u001b[43m,\u001b[49m\u001b[43m \u001b[49m\u001b[43mmax_its\u001b[49m\u001b[43m \u001b[49m\u001b[38;5;241;43m=\u001b[39;49m\u001b[43m \u001b[49m\u001b[38;5;241;43m100\u001b[39;49m\u001b[43m)\u001b[49m\n",
      "File \u001b[1;32mc:\\Users\\WEI\\Documents\\GitHub\\NDE-methods\\implicit_RK_method.py:31\u001b[0m, in \u001b[0;36mimplicit_rk_step\u001b[1;34m(c, A, b, f, D_yf, t_n, y_n, h, k0, TOL, max_its)\u001b[0m\n\u001b[0;32m     29\u001b[0m         k[:,i] \u001b[38;5;241m=\u001b[39m f(t_n\u001b[38;5;241m+\u001b[39mc[i]\u001b[38;5;241m*\u001b[39mh, y_n \u001b[38;5;241m+\u001b[39m h\u001b[38;5;241m*\u001b[39mnp\u001b[38;5;241m.\u001b[39mdot(k[:,:i], A[i,:i]))\n\u001b[0;32m     30\u001b[0m \u001b[38;5;28;01melse\u001b[39;00m:\n\u001b[1;32m---> 31\u001b[0m     k\u001b[38;5;241m=\u001b[39m\u001b[43mquasi_newton\u001b[49m\u001b[43m(\u001b[49m\u001b[43mc\u001b[49m\u001b[43m,\u001b[49m\u001b[43mA\u001b[49m\u001b[43m,\u001b[49m\u001b[43mb\u001b[49m\u001b[43m,\u001b[49m\u001b[43mf\u001b[49m\u001b[43m,\u001b[49m\u001b[43mD_yf\u001b[49m\u001b[43m,\u001b[49m\u001b[43mh\u001b[49m\u001b[43m,\u001b[49m\u001b[43mt_n\u001b[49m\u001b[43m,\u001b[49m\u001b[43my_n\u001b[49m\u001b[43m,\u001b[49m\u001b[43mk\u001b[49m\u001b[43m,\u001b[49m\u001b[43mTOL\u001b[49m\u001b[43m,\u001b[49m\u001b[43mmax_its\u001b[49m\u001b[43m)\u001b[49m\n\u001b[0;32m     33\u001b[0m y_new \u001b[38;5;241m=\u001b[39m y_n \u001b[38;5;241m+\u001b[39m h\u001b[38;5;241m*\u001b[39mnp\u001b[38;5;241m.\u001b[39mdot(k, b)\n\u001b[0;32m     34\u001b[0m k_end\u001b[38;5;241m=\u001b[39mk[:,\u001b[38;5;241m-\u001b[39m\u001b[38;5;241m1\u001b[39m]\n",
      "File \u001b[1;32mc:\\Users\\WEI\\Documents\\GitHub\\NDE-methods\\implicit_RK_method.py:63\u001b[0m, in \u001b[0;36mquasi_newton\u001b[1;34m(c, A, b, f, D_yf, h, t_n, y_n, k, TOL, max_its)\u001b[0m\n\u001b[0;32m     61\u001b[0m     ti\u001b[38;5;241m=\u001b[39mt_n\u001b[38;5;241m+\u001b[39mc[i]\u001b[38;5;241m*\u001b[39mh\n\u001b[0;32m     62\u001b[0m     yi\u001b[38;5;241m=\u001b[39my_n\u001b[38;5;241m+\u001b[39mh\u001b[38;5;241m*\u001b[39mnp\u001b[38;5;241m.\u001b[39mdot(A[i:],k[:,:])\n\u001b[1;32m---> 63\u001b[0m     \u001b[43mres\u001b[49m\u001b[43m[\u001b[49m\u001b[43mi\u001b[49m\u001b[38;5;241;43m*\u001b[39;49m\u001b[43md\u001b[49m\u001b[43m:\u001b[49m\u001b[43m(\u001b[49m\u001b[43mi\u001b[49m\u001b[38;5;241;43m+\u001b[39;49m\u001b[38;5;241;43m1\u001b[39;49m\u001b[43m)\u001b[49m\u001b[38;5;241;43m*\u001b[39;49m\u001b[43md\u001b[49m\u001b[43m]\u001b[49m \u001b[38;5;241m=\u001b[39m \u001b[38;5;241m-\u001b[39m (k[:,i] \u001b[38;5;241m-\u001b[39m f(ti, yi))\n\u001b[0;32m     65\u001b[0m res \u001b[38;5;241m=\u001b[39m np\u001b[38;5;241m.\u001b[39mdot(np\u001b[38;5;241m.\u001b[39mtranspose(P), res)\n\u001b[0;32m     66\u001b[0m res \u001b[38;5;241m=\u001b[39m solve_triangular(L, res, lower\u001b[38;5;241m=\u001b[39m\u001b[38;5;28;01mTrue\u001b[39;00m,  unit_diagonal\u001b[38;5;241m=\u001b[39m\u001b[38;5;28;01mTrue\u001b[39;00m,  overwrite_b\u001b[38;5;241m=\u001b[39m\u001b[38;5;28;01mTrue\u001b[39;00m)\n",
      "\u001b[1;31mValueError\u001b[0m: could not broadcast input array from shape (2,2) into shape (2,)"
     ]
    }
   ],
   "source": [
    "for t_ind in range(N):\n",
    "    # Compute the solution at the next time step\n",
    "    y[:,t_ind+1], k0 = implicit_rk_step(c, A, b, f, D_yf, t[t_ind], y[:,t_ind], h, k0, TOL=1e-14, max_its = 100)"
   ]
  },
  {
   "cell_type": "code",
   "execution_count": null,
   "metadata": {},
   "outputs": [],
   "source": [
    "print(y)\n",
    "print(k0)"
   ]
  },
  {
   "cell_type": "code",
   "execution_count": null,
   "metadata": {},
   "outputs": [],
   "source": [
    "plt.figure()\n",
    "plt.plot(t, y[0,:], 'g', label='Prey')\n",
    "plt.plot(t, y[1,:], 'r', label='Predator')\n",
    "plt.xlabel('Time')\n",
    "plt.ylabel('Population')\n",
    "plt.legend()\n",
    "plt.title('Predator and Prey Populations')\n",
    "plt.grid(True)\n",
    "# Plotting in phase space\n",
    "plt.figure()\n",
    "plt.plot(y[0,:], y[1,:], 'b', label='Solution')\n",
    "plt.xlabel('Prey Population')\n",
    "plt.ylabel('Predator Population')\n",
    "plt.legend()\n",
    "plt.title('Phase Space')\n",
    "plt.grid(True)\n",
    "plt.show()"
   ]
  }
 ],
 "metadata": {
  "kernelspec": {
   "display_name": "projects",
   "language": "python",
   "name": "python3"
  },
  "language_info": {
   "codemirror_mode": {
    "name": "ipython",
    "version": 3
   },
   "file_extension": ".py",
   "mimetype": "text/x-python",
   "name": "python",
   "nbconvert_exporter": "python",
   "pygments_lexer": "ipython3",
   "version": "3.8.20"
  }
 },
 "nbformat": 4,
 "nbformat_minor": 2
}
