{
 "cells": [
  {
   "cell_type": "markdown",
   "metadata": {},
   "source": [
    "# Embedded RK method with adaptive stepsize control"
   ]
  },
  {
   "cell_type": "code",
   "execution_count": null,
   "metadata": {},
   "outputs": [],
   "source": [
    "import numpy as np\n",
    "import matplotlib.pyplot as plt\n",
    "from embedded_rk_method import embedded_rk_step\n",
    "from implicit_RK_method import implicit_rk_step"
   ]
  },
  {
   "cell_type": "markdown",
   "metadata": {},
   "source": [
    "#### Model of restricted three body problem"
   ]
  },
  {
   "cell_type": "code",
   "execution_count": null,
   "metadata": {},
   "outputs": [],
   "source": [
    "# Constants\n",
    "M_M=0.012277471\n",
    "M_E=1-M_M\n",
    "y0=np.array([0.994,0,0,-2.001585106])\n",
    "T=51.19\n",
    "LAM= M_E/(M_M+M_E)\n",
    "MU= M_M/(M_M+M_E)"
   ]
  },
  {
   "cell_type": "code",
   "execution_count": null,
   "metadata": {},
   "outputs": [],
   "source": [
    "# Functions\n",
    "def N_E(y,t):\n",
    "    n_e=(y[0]+MU)^2+y[2]^2\n",
    "    return n_e\n",
    "\n",
    "def N_M(y,t):\n",
    "    n_m=(y[0]-LAM)^2+y[2]^2\n",
    "    return n_m\n",
    "\n",
    "def F(y,t):\n",
    "    f1=y[1]\n",
    "    f2=y[0]+2*y[4]-LAM*(y[0]+MU)/N_E(y,t)**(3/2)-MU*(y[0]-LAM)/N_M(y,t)**(3/2)\n",
    "    f3=y[3]\n",
    "    f4=y[2]-2*y[1]-LAM*y[2]/N_E(y,t)**(3/2)-MU*y[2]/N_M(y,t)**(3/2)\n",
    "    f=np.array([f1,f2,f3,f4])\n",
    "    return f\n",
    "\n",
    "def DyF(y,t):\n",
    "    df2_dx = 1 - LAM * (N_E(y)**(3/2) - 3*(y[0]+MU)**2*N_E(y)**(1/2))/(N_E(y)**3) - MU * (N_M(y)**(3/2) - 3*(y[0]-LAM)*2*N_M(y)**(1/2))/(N_M(y)**3)\n",
    "    df2_dy = 3*LAM*(y[0]+MU)*N_E(y)**(-5/2)*y[2] + 3*MU*(y[0]-LAM)*N_M(y)**(-5/2)*y[2]\n",
    "    df4_dx = 3*LAM*y[2]*(y[0]+MU)*N_E(y)**(-5/2) + 3*MU*y[2]*(y[0]-LAM)*N_M(y)**(-5/2)\n",
    "    df4_dy = 1 - LAM*(N_E(y)**(3/2) - 3*y[2]**2*N_E(y)**(1/2))/(N_E(y)**3) - MU*(N_M(y)**(3/2) - 3*y[2]**2*N_M(y)**(1/2))/(N_M(y)**3)\n",
    "    D_yf = np.array([[0,1,0,0],[df2_dx,0,df2_dy,2],[0,0,0,1],[df4_dx,-2,df4_dy,0]])\n",
    "    return D_yf"
   ]
  },
  {
   "cell_type": "code",
   "execution_count": null,
   "metadata": {},
   "outputs": [],
   "source": [
    "# Using RK4 scheme\n",
    "N=500000\n",
    "h=T/N"
   ]
  },
  {
   "cell_type": "code",
   "execution_count": null,
   "metadata": {},
   "outputs": [],
   "source": [
    "# Initialize\n",
    "t = np.linspace(0, T, N+1)  \n",
    "y = np.zeros((2, N+1))\n",
    "k0 = np.zeros(2)    \n",
    "y[:,0] = y0"
   ]
  }
 ],
 "metadata": {
  "kernelspec": {
   "display_name": "projects",
   "language": "python",
   "name": "python3"
  },
  "language_info": {
   "codemirror_mode": {
    "name": "ipython",
    "version": 3
   },
   "file_extension": ".py",
   "mimetype": "text/x-python",
   "name": "python",
   "nbconvert_exporter": "python",
   "pygments_lexer": "ipython3",
   "version": "3.8.20"
  }
 },
 "nbformat": 4,
 "nbformat_minor": 2
}
